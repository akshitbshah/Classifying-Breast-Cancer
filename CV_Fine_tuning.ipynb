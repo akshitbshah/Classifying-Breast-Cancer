{
 "cells": [
  {
   "cell_type": "markdown",
   "metadata": {},
   "source": [
    "# Breast Tumor Classification using Fine-Tuning the VGG16"
   ]
  },
  {
   "cell_type": "markdown",
   "metadata": {},
   "source": [
    "### This below two cell must be executed to access data from drive (if it's stored on it ), if you want run it on Google Colab"
   ]
  },
  {
   "cell_type": "code",
   "execution_count": null,
   "metadata": {
    "colab": {
     "autoexec": {
      "startup": false,
      "wait_interval": 0
     },
     "base_uri": "https://localhost:8080/",
     "height": 136
    },
    "colab_type": "code",
    "executionInfo": {
     "elapsed": 25547,
     "status": "ok",
     "timestamp": 1525892953461,
     "user": {
      "displayName": "Atik Khatri",
      "photoUrl": "https://lh3.googleusercontent.com/a/default-user=s128",
      "userId": "110614073707712595307"
     },
     "user_tz": 240
    },
    "id": "2vOnL42MEDnm",
    "outputId": "01b01a2f-671e-4dfa-a7ee-0a6e147de8a0"
   },
   "outputs": [],
   "source": [
    "!apt-get install -y -qq software-properties-common python-software-properties module-init-tools\n",
    "!add-apt-repository -y ppa:alessandro-strada/ppa 2>&1 > /dev/null\n",
    "!apt-get update -qq 2>&1 > /dev/null\n",
    "!apt-get -y install -qq google-drive-ocamlfuse fuse\n",
    "\n",
    "from google.colab import auth\n",
    "auth.authenticate_user()\n",
    "from oauth2client.client import GoogleCredentials\n",
    "creds = GoogleCredentials.get_application_default()\n",
    "import getpass\n",
    "\n",
    "!google-drive-ocamlfuse -headless -id={creds.client_id} -secret={creds.client_secret} < /dev/null 2>&1 | grep URL\n",
    "vcode = getpass.getpass()\n",
    "!echo {vcode} | google-drive-ocamlfuse -headless -id={creds.client_id} -secret={creds.client_secret}"
   ]
  },
  {
   "cell_type": "code",
   "execution_count": 0,
   "metadata": {
    "colab": {
     "autoexec": {
      "startup": false,
      "wait_interval": 0
     }
    },
    "colab_type": "code",
    "id": "sIB0gQigER-5"
   },
   "outputs": [],
   "source": [
    "!mkdir -p drive\n",
    "!google-drive-ocamlfuse drive"
   ]
  },
  {
   "cell_type": "code",
   "execution_count": 44,
   "metadata": {
    "colab": {
     "autoexec": {
      "startup": false,
      "wait_interval": 0
     },
     "base_uri": "https://localhost:8080/",
     "height": 34
    },
    "colab_type": "code",
    "executionInfo": {
     "elapsed": 362,
     "status": "ok",
     "timestamp": 1525892962184,
     "user": {
      "displayName": "Atik Khatri",
      "photoUrl": "https://lh3.googleusercontent.com/a/default-user=s128",
      "userId": "110614073707712595307"
     },
     "user_tz": 240
    },
    "id": "lRqXLJf5Eo2q",
    "outputId": "f8945d96-ac58-4210-8525-68fd24f5d946"
   },
   "outputs": [
    {
     "name": "stdout",
     "output_type": "stream",
     "text": [
      "/content/drive/drive/drive/drive\n"
     ]
    }
   ],
   "source": [
    "cd drive/"
   ]
  },
  {
   "cell_type": "markdown",
   "metadata": {},
   "source": [
    "## Actual code starts from here"
   ]
  },
  {
   "cell_type": "code",
   "execution_count": 0,
   "metadata": {
    "colab": {
     "autoexec": {
      "startup": false,
      "wait_interval": 0
     }
    },
    "colab_type": "code",
    "id": "XpcDeafVEsE4"
   },
   "outputs": [],
   "source": [
    "import os"
   ]
  },
  {
   "cell_type": "code",
   "execution_count": 0,
   "metadata": {
    "colab": {
     "autoexec": {
      "startup": false,
      "wait_interval": 0
     }
    },
    "colab_type": "code",
    "id": "YfpBNb5_Es9H"
   },
   "outputs": [],
   "source": [
    "from keras.applications import VGG16\n",
    "\n",
    "conv_base = VGG16(weights='imagenet',\n",
    "                  include_top=False,\n",
    "                  input_shape=(320, 320, 3))"
   ]
  },
  {
   "cell_type": "code",
   "execution_count": 0,
   "metadata": {
    "colab": {
     "autoexec": {
      "startup": false,
      "wait_interval": 0
     }
    },
    "colab_type": "code",
    "id": "qO7BzWAlE5E9"
   },
   "outputs": [],
   "source": [
    "base_dir = '/content/drive/CV_dataset/'\n",
    "\n",
    "train_dir = os.path.join(base_dir, 'train')\n",
    "test_dir = os.path.join(base_dir, 'test')"
   ]
  },
  {
   "cell_type": "code",
   "execution_count": 0,
   "metadata": {
    "colab": {
     "autoexec": {
      "startup": false,
      "wait_interval": 0
     }
    },
    "colab_type": "code",
    "id": "sihEN7ZBFA_m"
   },
   "outputs": [],
   "source": [
    "from keras import models\n",
    "from keras import layers\n",
    "from keras import optimizers\n",
    "\n",
    "model = models.Sequential()\n",
    "model.add(conv_base)\n",
    "model.add(layers.Flatten())\n",
    "model.add(layers.Dropout(0.5))\n",
    "model.add(layers.Dense(256, activation='relu'))\n",
    "model.add(layers.Dense(1, activation='sigmoid'))"
   ]
  },
  {
   "cell_type": "code",
   "execution_count": 49,
   "metadata": {
    "colab": {
     "autoexec": {
      "startup": false,
      "wait_interval": 0
     },
     "base_uri": "https://localhost:8080/",
     "height": 306
    },
    "colab_type": "code",
    "executionInfo": {
     "elapsed": 360,
     "status": "ok",
     "timestamp": 1525892996231,
     "user": {
      "displayName": "Atik Khatri",
      "photoUrl": "https://lh3.googleusercontent.com/a/default-user=s128",
      "userId": "110614073707712595307"
     },
     "user_tz": 240
    },
    "id": "6X5Lqcs2FGZD",
    "outputId": "5490198d-c5a0-48fc-ca82-f90f96f3ba17"
   },
   "outputs": [
    {
     "name": "stdout",
     "output_type": "stream",
     "text": [
      "_________________________________________________________________\n",
      "Layer (type)                 Output Shape              Param #   \n",
      "=================================================================\n",
      "vgg16 (Model)                (None, 10, 10, 512)       14714688  \n",
      "_________________________________________________________________\n",
      "flatten_7 (Flatten)          (None, 51200)             0         \n",
      "_________________________________________________________________\n",
      "dropout_7 (Dropout)          (None, 51200)             0         \n",
      "_________________________________________________________________\n",
      "dense_13 (Dense)             (None, 256)               13107456  \n",
      "_________________________________________________________________\n",
      "dense_14 (Dense)             (None, 1)                 257       \n",
      "=================================================================\n",
      "Total params: 27,822,401\n",
      "Trainable params: 27,822,401\n",
      "Non-trainable params: 0\n",
      "_________________________________________________________________\n"
     ]
    }
   ],
   "source": [
    "model.summary()"
   ]
  },
  {
   "cell_type": "code",
   "execution_count": 50,
   "metadata": {
    "colab": {
     "autoexec": {
      "startup": false,
      "wait_interval": 0
     },
     "base_uri": "https://localhost:8080/",
     "height": 782
    },
    "colab_type": "code",
    "executionInfo": {
     "elapsed": 365,
     "status": "ok",
     "timestamp": 1525893005362,
     "user": {
      "displayName": "Atik Khatri",
      "photoUrl": "https://lh3.googleusercontent.com/a/default-user=s128",
      "userId": "110614073707712595307"
     },
     "user_tz": 240
    },
    "id": "pTltOQwwFIQq",
    "outputId": "69ef7816-75cd-40c4-9d28-0e8eb17838a4"
   },
   "outputs": [
    {
     "name": "stdout",
     "output_type": "stream",
     "text": [
      "_________________________________________________________________\n",
      "Layer (type)                 Output Shape              Param #   \n",
      "=================================================================\n",
      "input_4 (InputLayer)         (None, 320, 320, 3)       0         \n",
      "_________________________________________________________________\n",
      "block1_conv1 (Conv2D)        (None, 320, 320, 64)      1792      \n",
      "_________________________________________________________________\n",
      "block1_conv2 (Conv2D)        (None, 320, 320, 64)      36928     \n",
      "_________________________________________________________________\n",
      "block1_pool (MaxPooling2D)   (None, 160, 160, 64)      0         \n",
      "_________________________________________________________________\n",
      "block2_conv1 (Conv2D)        (None, 160, 160, 128)     73856     \n",
      "_________________________________________________________________\n",
      "block2_conv2 (Conv2D)        (None, 160, 160, 128)     147584    \n",
      "_________________________________________________________________\n",
      "block2_pool (MaxPooling2D)   (None, 80, 80, 128)       0         \n",
      "_________________________________________________________________\n",
      "block3_conv1 (Conv2D)        (None, 80, 80, 256)       295168    \n",
      "_________________________________________________________________\n",
      "block3_conv2 (Conv2D)        (None, 80, 80, 256)       590080    \n",
      "_________________________________________________________________\n",
      "block3_conv3 (Conv2D)        (None, 80, 80, 256)       590080    \n",
      "_________________________________________________________________\n",
      "block3_pool (MaxPooling2D)   (None, 40, 40, 256)       0         \n",
      "_________________________________________________________________\n",
      "block4_conv1 (Conv2D)        (None, 40, 40, 512)       1180160   \n",
      "_________________________________________________________________\n",
      "block4_conv2 (Conv2D)        (None, 40, 40, 512)       2359808   \n",
      "_________________________________________________________________\n",
      "block4_conv3 (Conv2D)        (None, 40, 40, 512)       2359808   \n",
      "_________________________________________________________________\n",
      "block4_pool (MaxPooling2D)   (None, 20, 20, 512)       0         \n",
      "_________________________________________________________________\n",
      "block5_conv1 (Conv2D)        (None, 20, 20, 512)       2359808   \n",
      "_________________________________________________________________\n",
      "block5_conv2 (Conv2D)        (None, 20, 20, 512)       2359808   \n",
      "_________________________________________________________________\n",
      "block5_conv3 (Conv2D)        (None, 20, 20, 512)       2359808   \n",
      "_________________________________________________________________\n",
      "block5_pool (MaxPooling2D)   (None, 10, 10, 512)       0         \n",
      "=================================================================\n",
      "Total params: 14,714,688\n",
      "Trainable params: 14,714,688\n",
      "Non-trainable params: 0\n",
      "_________________________________________________________________\n"
     ]
    }
   ],
   "source": [
    "conv_base.summary()"
   ]
  },
  {
   "cell_type": "markdown",
   "metadata": {
    "colab_type": "text",
    "id": "vNnPAWHpFWEv"
   },
   "source": [
    "## Unfreezing the last three layers of VGG16 to fine-tune on our custom model"
   ]
  },
  {
   "cell_type": "code",
   "execution_count": 0,
   "metadata": {
    "colab": {
     "autoexec": {
      "startup": false,
      "wait_interval": 0
     }
    },
    "colab_type": "code",
    "id": "33toMftXFbcg"
   },
   "outputs": [],
   "source": [
    "conv_base.trainable = True\n",
    "\n",
    "set_trainable = False\n",
    "for layer in conv_base.layers:\n",
    "    if layer.name == 'block5_conv1':\n",
    "        set_trainable = True\n",
    "    if set_trainable:\n",
    "        layer.trainable = True\n",
    "    else:\n",
    "        layer.trainable = False"
   ]
  },
  {
   "cell_type": "markdown",
   "metadata": {},
   "source": [
    "## Augmenting the training data"
   ]
  },
  {
   "cell_type": "code",
   "execution_count": 52,
   "metadata": {
    "colab": {
     "autoexec": {
      "startup": false,
      "wait_interval": 0
     },
     "base_uri": "https://localhost:8080/",
     "height": 1771
    },
    "colab_type": "code",
    "executionInfo": {
     "elapsed": 542907,
     "status": "ok",
     "timestamp": 1525893560813,
     "user": {
      "displayName": "Atik Khatri",
      "photoUrl": "https://lh3.googleusercontent.com/a/default-user=s128",
      "userId": "110614073707712595307"
     },
     "user_tz": 240
    },
    "id": "_6TXva1_Fgyc",
    "outputId": "88a88744-6244-4e79-f813-d54816eb773d"
   },
   "outputs": [
    {
     "name": "stdout",
     "output_type": "stream",
     "text": [
      "Found 179 images belonging to 2 classes.\n",
      "Found 169 images belonging to 2 classes.\n",
      "Epoch 1/50\n",
      "25/25 [==============================] - 11s 453ms/step - loss: 0.7841 - acc: 0.4815 - val_loss: 0.7526 - val_acc: 0.4219\n",
      "Epoch 2/50\n",
      "25/25 [==============================] - 10s 419ms/step - loss: 0.7107 - acc: 0.5636 - val_loss: 0.6822 - val_acc: 0.5781\n",
      "Epoch 3/50\n",
      "25/25 [==============================] - 10s 419ms/step - loss: 0.7244 - acc: 0.5516 - val_loss: 0.6739 - val_acc: 0.4844\n",
      "Epoch 4/50\n",
      "25/25 [==============================] - 10s 417ms/step - loss: 0.6683 - acc: 0.6016 - val_loss: 0.6733 - val_acc: 0.5938\n",
      "Epoch 5/50\n",
      "25/25 [==============================] - 11s 421ms/step - loss: 0.6952 - acc: 0.5616 - val_loss: 0.6515 - val_acc: 0.6094\n",
      "Epoch 6/50\n",
      "25/25 [==============================] - 11s 449ms/step - loss: 0.6139 - acc: 0.6797 - val_loss: 0.6611 - val_acc: 0.6250\n",
      "Epoch 7/50\n",
      "21/25 [========================>.....] - ETA: 1s - loss: 0.6186 - acc: 0.597225/25 [==============================] - 10s 420ms/step - loss: 0.6165 - acc: 0.6116 - val_loss: 0.6365 - val_acc: 0.6406\n",
      "Epoch 8/50\n",
      "25/25 [==============================] - 11s 423ms/step - loss: 0.6243 - acc: 0.6413 - val_loss: 0.6833 - val_acc: 0.6562\n",
      "Epoch 9/50\n",
      "25/25 [==============================] - 11s 435ms/step - loss: 0.6116 - acc: 0.6517 - val_loss: 0.6266 - val_acc: 0.6562\n",
      "Epoch 10/50\n",
      "25/25 [==============================] - 11s 439ms/step - loss: 0.5813 - acc: 0.6967 - val_loss: 0.6434 - val_acc: 0.6250\n",
      "Epoch 11/50\n",
      "25/25 [==============================] - 11s 444ms/step - loss: 0.5637 - acc: 0.6967 - val_loss: 0.5517 - val_acc: 0.6719\n",
      "Epoch 12/50\n",
      "25/25 [==============================] - 12s 481ms/step - loss: 0.6076 - acc: 0.6667 - val_loss: 0.5942 - val_acc: 0.6719\n",
      "Epoch 13/50\n",
      "25/25 [==============================] - 10s 418ms/step - loss: 0.5122 - acc: 0.7498 - val_loss: 0.7801 - val_acc: 0.6250\n",
      "Epoch 14/50\n",
      "13/25 [==============>...............] - ETA: 3s - loss: 0.6303 - acc: 0.692325/25 [==============================] - 10s 420ms/step - loss: 0.5479 - acc: 0.7498 - val_loss: 0.7108 - val_acc: 0.6094\n",
      "Epoch 15/50\n",
      "25/25 [==============================] - 10s 417ms/step - loss: 0.5691 - acc: 0.7267 - val_loss: 0.5358 - val_acc: 0.7188\n",
      "Epoch 16/50\n",
      "25/25 [==============================] - 10s 419ms/step - loss: 0.5210 - acc: 0.7598 - val_loss: 0.7652 - val_acc: 0.6250\n",
      "Epoch 17/50\n",
      "25/25 [==============================] - 11s 441ms/step - loss: 0.5834 - acc: 0.7084 - val_loss: 0.7939 - val_acc: 0.5938\n",
      "Epoch 18/50\n",
      "25/25 [==============================] - 11s 427ms/step - loss: 0.5277 - acc: 0.7150 - val_loss: 0.6503 - val_acc: 0.6094\n",
      "Epoch 19/50\n",
      "25/25 [==============================] - 10s 420ms/step - loss: 0.5255 - acc: 0.7515 - val_loss: 0.6401 - val_acc: 0.6250\n",
      "Epoch 20/50\n",
      "25/25 [==============================] - 11s 431ms/step - loss: 0.5156 - acc: 0.7317 - val_loss: 0.7223 - val_acc: 0.6250\n",
      "Epoch 21/50\n",
      "12/25 [=============>................] - ETA: 4s - loss: 0.5475 - acc: 0.687525/25 [==============================] - 11s 440ms/step - loss: 0.5145 - acc: 0.6837 - val_loss: 0.6960 - val_acc: 0.6094\n",
      "Epoch 22/50\n",
      "25/25 [==============================] - 11s 445ms/step - loss: 0.4897 - acc: 0.7698 - val_loss: 0.6268 - val_acc: 0.6875\n",
      "Epoch 23/50\n",
      "25/25 [==============================] - 12s 479ms/step - loss: 0.4821 - acc: 0.7537 - val_loss: 0.9169 - val_acc: 0.6250\n",
      "Epoch 24/50\n",
      "25/25 [==============================] - 11s 421ms/step - loss: 0.4636 - acc: 0.7518 - val_loss: 1.1663 - val_acc: 0.5938\n",
      "Epoch 25/50\n",
      "25/25 [==============================] - 10s 414ms/step - loss: 0.5356 - acc: 0.7234 - val_loss: 0.6119 - val_acc: 0.6406\n",
      "Epoch 26/50\n",
      "25/25 [==============================] - 11s 428ms/step - loss: 0.4244 - acc: 0.8150 - val_loss: 0.9900 - val_acc: 0.5938\n",
      "Epoch 27/50\n",
      "25/25 [==============================] - 11s 421ms/step - loss: 0.5516 - acc: 0.7037 - val_loss: 0.7824 - val_acc: 0.6406\n",
      "Epoch 28/50\n",
      "12/25 [=============>................] - ETA: 3s - loss: 0.4118 - acc: 0.812525/25 [==============================] - 12s 464ms/step - loss: 0.4492 - acc: 0.7615 - val_loss: 1.1249 - val_acc: 0.5938\n",
      "Epoch 29/50\n",
      "25/25 [==============================] - 11s 427ms/step - loss: 0.4587 - acc: 0.7950 - val_loss: 0.8714 - val_acc: 0.6250\n",
      "Epoch 30/50\n",
      "25/25 [==============================] - 10s 415ms/step - loss: 0.4860 - acc: 0.7705 - val_loss: 0.9638 - val_acc: 0.5938\n",
      "Epoch 31/50\n",
      "25/25 [==============================] - 11s 432ms/step - loss: 0.4300 - acc: 0.7950 - val_loss: 0.7208 - val_acc: 0.6406\n",
      "Epoch 32/50\n",
      "25/25 [==============================] - 11s 430ms/step - loss: 0.4519 - acc: 0.7896 - val_loss: 0.7446 - val_acc: 0.6250\n",
      "Epoch 33/50\n",
      "25/25 [==============================] - 11s 444ms/step - loss: 0.4475 - acc: 0.7818 - val_loss: 0.5988 - val_acc: 0.6719\n",
      "Epoch 34/50\n",
      "25/25 [==============================] - 12s 474ms/step - loss: 0.4652 - acc: 0.7848 - val_loss: 0.7031 - val_acc: 0.6250\n",
      "Epoch 35/50\n",
      "12/25 [=============>................] - ETA: 4s - loss: 0.4400 - acc: 0.770825/25 [==============================] - 11s 452ms/step - loss: 0.4450 - acc: 0.7598 - val_loss: 0.7447 - val_acc: 0.6406\n",
      "Epoch 36/50\n",
      "25/25 [==============================] - 10s 419ms/step - loss: 0.4342 - acc: 0.7938 - val_loss: 0.5784 - val_acc: 0.7344\n",
      "Epoch 37/50\n",
      "25/25 [==============================] - 11s 423ms/step - loss: 0.4387 - acc: 0.7848 - val_loss: 0.8959 - val_acc: 0.6250\n",
      "Epoch 38/50\n",
      "25/25 [==============================] - 10s 420ms/step - loss: 0.3946 - acc: 0.7938 - val_loss: 1.0291 - val_acc: 0.5938\n",
      "Epoch 39/50\n",
      "25/25 [==============================] - 11s 434ms/step - loss: 0.4447 - acc: 0.7748 - val_loss: 1.2089 - val_acc: 0.5938\n",
      "Epoch 40/50\n",
      "25/25 [==============================] - 11s 432ms/step - loss: 0.3898 - acc: 0.7968 - val_loss: 1.0713 - val_acc: 0.5938\n",
      "Epoch 41/50\n",
      "25/25 [==============================] - 10s 419ms/step - loss: 0.4673 - acc: 0.7948 - val_loss: 0.9431 - val_acc: 0.6094\n",
      "Epoch 42/50\n",
      "12/25 [=============>................] - ETA: 3s - loss: 0.4508 - acc: 0.784725/25 [==============================] - 11s 426ms/step - loss: 0.3953 - acc: 0.8118 - val_loss: 0.8931 - val_acc: 0.5938\n",
      "Epoch 43/50\n",
      "25/25 [==============================] - 11s 424ms/step - loss: 0.3832 - acc: 0.8417 - val_loss: 0.6844 - val_acc: 0.6719\n",
      "Epoch 44/50\n",
      "25/25 [==============================] - 11s 442ms/step - loss: 0.3920 - acc: 0.8350 - val_loss: 0.7959 - val_acc: 0.6406\n",
      "Epoch 45/50\n",
      "25/25 [==============================] - 12s 467ms/step - loss: 0.3165 - acc: 0.8697 - val_loss: 0.7837 - val_acc: 0.6875\n",
      "Epoch 46/50\n",
      "25/25 [==============================] - 11s 451ms/step - loss: 0.3999 - acc: 0.8098 - val_loss: 0.8656 - val_acc: 0.6250\n",
      "Epoch 47/50\n",
      "25/25 [==============================] - 10s 420ms/step - loss: 0.3630 - acc: 0.8418 - val_loss: 0.6530 - val_acc: 0.7031\n",
      "Epoch 48/50\n",
      "25/25 [==============================] - 10s 411ms/step - loss: 0.3707 - acc: 0.8497 - val_loss: 0.6038 - val_acc: 0.7188\n",
      "Epoch 49/50\n",
      "12/25 [=============>................] - ETA: 4s - loss: 0.4227 - acc: 0.822925/25 [==============================] - 11s 427ms/step - loss: 0.3767 - acc: 0.8400 - val_loss: 0.5960 - val_acc: 0.7500\n",
      "Epoch 50/50\n",
      "25/25 [==============================] - 10s 416ms/step - loss: 0.3635 - acc: 0.8298 - val_loss: 0.8140 - val_acc: 0.7188\n"
     ]
    }
   ],
   "source": [
    "from keras.preprocessing.image import ImageDataGenerator\n",
    "train_datagen = ImageDataGenerator(\n",
    "      rescale=1./255,\n",
    "      rotation_range=50,\n",
    "      width_shift_range=0.2,\n",
    "      height_shift_range=0.2,\n",
    "      shear_range=0.2,\n",
    "      zoom_range=0.2,\n",
    "      horizontal_flip=True,\n",
    "      fill_mode='nearest')\n",
    "\n",
    "# Note that the validation data should not be augmented!\n",
    "test_datagen = ImageDataGenerator(rescale=1./255)\n",
    "\n",
    "train_generator = train_datagen.flow_from_directory(train_dir, target_size=(320, 320), batch_size=8, class_mode='binary')\n",
    "\n",
    "validation_generator = test_datagen.flow_from_directory(test_dir, target_size=(320, 320), batch_size=8, class_mode='binary')\n",
    "\n",
    "model.compile(loss='binary_crossentropy', optimizer=optimizers.Adam(lr=1e-5), metrics=['acc'])\n",
    "\n",
    "history = model.fit_generator(\n",
    "      train_generator,\n",
    "      steps_per_epoch=25,\n",
    "      epochs=50,\n",
    "      validation_data=validation_generator,\n",
    "      validation_steps=8)"
   ]
  },
  {
   "cell_type": "markdown",
   "metadata": {},
   "source": [
    "## Saving the trained model"
   ]
  },
  {
   "cell_type": "code",
   "execution_count": 0,
   "metadata": {
    "colab": {
     "autoexec": {
      "startup": false,
      "wait_interval": 0
     }
    },
    "colab_type": "code",
    "id": "CiLxbrlKFjVl"
   },
   "outputs": [],
   "source": [
    "model.save('cancer_classification_fine-tuned_VGG16.h5')"
   ]
  },
  {
   "cell_type": "markdown",
   "metadata": {},
   "source": [
    "## Plotting the training & validation accuarcy and loss values"
   ]
  },
  {
   "cell_type": "code",
   "execution_count": 54,
   "metadata": {
    "colab": {
     "autoexec": {
      "startup": false,
      "wait_interval": 0
     },
     "base_uri": "https://localhost:8080/",
     "height": 543
    },
    "colab_type": "code",
    "executionInfo": {
     "elapsed": 2826,
     "status": "ok",
     "timestamp": 1525893778128,
     "user": {
      "displayName": "Atik Khatri",
      "photoUrl": "https://lh3.googleusercontent.com/a/default-user=s128",
      "userId": "110614073707712595307"
     },
     "user_tz": 240
    },
    "id": "WbcguQGFWiOT",
    "outputId": "4df2d129-5936-4a83-b562-5e4fbf55fa8b"
   },
   "outputs": [
    {
     "data": {
      "image/png": "[encoded data removed]",
      "text/plain": [
       "<matplotlib.figure.Figure at 0x7f5f096f9080>"
      ]
     },
     "metadata": {
      "tags": []
     },
     "output_type": "display_data"
    },
    {
     "data": {
      "image/png": "[encoded data removed]",
      "text/plain": [
       "<matplotlib.figure.Figure at 0x7f5f096af080>"
      ]
     },
     "metadata": {
      "tags": []
     },
     "output_type": "display_data"
    }
   ],
   "source": [
    "import matplotlib.pyplot as plt\n",
    "%matplotlib inline\n",
    "\n",
    "acc = history.history['acc']\n",
    "val_acc = history.history['val_acc']\n",
    "loss = history.history['loss']\n",
    "val_loss = history.history['val_loss']\n",
    "\n",
    "epochs = range(len(acc))\n",
    "\n",
    "plt.plot(epochs, acc, 'r', label='Training acc')\n",
    "plt.plot(epochs, val_acc, 'b', label='Validation acc')\n",
    "plt.title('Training and validation accuracy')\n",
    "plt.legend()\n",
    "\n",
    "plt.figure()\n",
    "\n",
    "plt.plot(epochs, loss, 'r', label='Training loss')\n",
    "plt.plot(epochs, val_loss, 'b', label='Validation loss')\n",
    "plt.title('Training and validation loss')\n",
    "plt.legend()\n",
    "\n",
    "plt.show()"
   ]
  }
 ],
 "metadata": {
  "accelerator": "GPU",
  "colab": {
   "default_view": {},
   "name": "CV_Fine-tuning.ipynb",
   "provenance": [],
   "version": "0.3.2",
   "views": {}
  },
  "kernelspec": {
   "display_name": "Python 3",
   "language": "python",
   "name": "python3"
  },
  "language_info": {
   "codemirror_mode": {
    "name": "ipython",
    "version": 3
   },
   "file_extension": ".py",
   "mimetype": "text/x-python",
   "name": "python",
   "nbconvert_exporter": "python",
   "pygments_lexer": "ipython3",
   "version": "3.6.2"
  }
 },
 "nbformat": 4,
 "nbformat_minor": 1
}
