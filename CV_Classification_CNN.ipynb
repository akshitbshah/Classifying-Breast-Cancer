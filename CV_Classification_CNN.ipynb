{
 "cells": [
  {
   "cell_type": "markdown",
   "metadata": {},
   "source": [
    "# Breast Tumor Classification using our custom model"
   ]
  },
  {
   "cell_type": "markdown",
   "metadata": {},
   "source": [
    "### This below two cell must be executed to access data from drive (if it's stored on it ), if you want run it on Google Colab"
   ]
  },
  {
   "cell_type": "code",
   "execution_count": 1,
   "metadata": {
    "colab": {
     "autoexec": {
      "startup": false,
      "wait_interval": 0
     },
     "base_uri": "https://localhost:8080/",
     "height": 105
    },
    "colab_type": "code",
    "executionInfo": {
     "elapsed": 16846,
     "status": "ok",
     "timestamp": 1525883036188,
     "user": {
      "displayName": "atik khatri",
      "photoUrl": "//lh5.googleusercontent.com/-687SbQKlx9U/AAAAAAAAAAI/AAAAAAAAAiE/xmf6vK_XDV8/s50-c-k-no/photo.jpg",
      "userId": "117534537417752597585"
     },
     "user_tz": 240
    },
    "id": "kkvQU-sttSkc",
    "outputId": "ce9b61ad-e57c-42d7-f8c5-7bf6f56f6594"
   },
   "outputs": [
    {
     "name": "stdout",
     "output_type": "stream",
     "text": [
      "Please, open the following URL in a web browser: https://accounts.google.com/o/oauth2/auth?client_id=32555940559.apps.googleusercontent.com&redirect_uri=urn%3Aietf%3Awg%3Aoauth%3A2.0%3Aoob&scope=https%3A%2F%2Fwww.googleapis.com%2Fauth%2Fdrive&response_type=code&access_type=offline&approval_prompt=force\r\n",
      "··········\n",
      "Please, open the following URL in a web browser: https://accounts.google.com/o/oauth2/auth?client_id=32555940559.apps.googleusercontent.com&redirect_uri=urn%3Aietf%3Awg%3Aoauth%3A2.0%3Aoob&scope=https%3A%2F%2Fwww.googleapis.com%2Fauth%2Fdrive&response_type=code&access_type=offline&approval_prompt=force\n",
      "Please enter the verification code: Access token retrieved correctly.\n"
     ]
    }
   ],
   "source": [
    "!apt-get install -y -qq software-properties-common python-software-properties module-init-tools\n",
    "!add-apt-repository -y ppa:alessandro-strada/ppa 2>&1 > /dev/null\n",
    "!apt-get update -qq 2>&1 > /dev/null\n",
    "!apt-get -y install -qq google-drive-ocamlfuse fuse\n",
    "\n",
    "from google.colab import auth\n",
    "auth.authenticate_user()\n",
    "from oauth2client.client import GoogleCredentials\n",
    "creds = GoogleCredentials.get_application_default()\n",
    "import getpass\n",
    "\n",
    "!google-drive-ocamlfuse -headless -id={creds.client_id} -secret={creds.client_secret} < /dev/null 2>&1 | grep URL\n",
    "vcode = getpass.getpass()\n",
    "!echo {vcode} | google-drive-ocamlfuse -headless -id={creds.client_id} -secret={creds.client_secret}"
   ]
  },
  {
   "cell_type": "code",
   "execution_count": 0,
   "metadata": {
    "colab": {
     "autoexec": {
      "startup": false,
      "wait_interval": 0
     }
    },
    "colab_type": "code",
    "id": "Z8vNY7RZtfqq"
   },
   "outputs": [],
   "source": [
    "!mkdir -p drive\n",
    "!google-drive-ocamlfuse drive"
   ]
  },
  {
   "cell_type": "code",
   "execution_count": 3,
   "metadata": {
    "colab": {
     "autoexec": {
      "startup": false,
      "wait_interval": 0
     },
     "base_uri": "https://localhost:8080/",
     "height": 34
    },
    "colab_type": "code",
    "executionInfo": {
     "elapsed": 226,
     "status": "ok",
     "timestamp": 1525883056480,
     "user": {
      "displayName": "atik khatri",
      "photoUrl": "//lh5.googleusercontent.com/-687SbQKlx9U/AAAAAAAAAAI/AAAAAAAAAiE/xmf6vK_XDV8/s50-c-k-no/photo.jpg",
      "userId": "117534537417752597585"
     },
     "user_tz": 240
    },
    "id": "orxp6syut5TS",
    "outputId": "d3db61dd-89e9-4ae2-e4b4-e477e7ab0f1f"
   },
   "outputs": [
    {
     "name": "stdout",
     "output_type": "stream",
     "text": [
      "/content/drive\n"
     ]
    }
   ],
   "source": [
    "cd drive/"
   ]
  },
  {
   "cell_type": "markdown",
   "metadata": {},
   "source": [
    "## Actual classifiaction code starts from here"
   ]
  },
  {
   "cell_type": "code",
   "execution_count": 0,
   "metadata": {
    "colab": {
     "autoexec": {
      "startup": false,
      "wait_interval": 0
     }
    },
    "colab_type": "code",
    "id": "zpiKeXKCt7A_"
   },
   "outputs": [],
   "source": [
    "import os"
   ]
  },
  {
   "cell_type": "code",
   "execution_count": 0,
   "metadata": {
    "colab": {
     "autoexec": {
      "startup": false,
      "wait_interval": 0
     }
    },
    "colab_type": "code",
    "id": "TcMzHgK0t8Yt"
   },
   "outputs": [],
   "source": [
    "base_dir = '/content/drive/CV_dataset/'\n",
    "\n",
    "train_dir = os.path.join(base_dir, 'train')\n",
    "test_dir = os.path.join(base_dir, 'test')"
   ]
  },
  {
   "cell_type": "code",
   "execution_count": 6,
   "metadata": {
    "colab": {
     "autoexec": {
      "startup": false,
      "wait_interval": 0
     },
     "base_uri": "https://localhost:8080/",
     "height": 34
    },
    "colab_type": "code",
    "executionInfo": {
     "elapsed": 9131,
     "status": "ok",
     "timestamp": 1525883122252,
     "user": {
      "displayName": "atik khatri",
      "photoUrl": "//lh5.googleusercontent.com/-687SbQKlx9U/AAAAAAAAAAI/AAAAAAAAAiE/xmf6vK_XDV8/s50-c-k-no/photo.jpg",
      "userId": "117534537417752597585"
     },
     "user_tz": 240
    },
    "id": "aytSqrDAuFXm",
    "outputId": "f344572f-3648-45e7-fa39-b663521c817d"
   },
   "outputs": [
    {
     "name": "stderr",
     "output_type": "stream",
     "text": [
      "Using TensorFlow backend.\n"
     ]
    }
   ],
   "source": [
    "from keras import layers\n",
    "from keras import models\n",
    "from keras import optimizers\n",
    "from keras.preprocessing import image\n",
    "import matplotlib.pyplot as plt\n",
    "%matplotlib inline"
   ]
  },
  {
   "cell_type": "markdown",
   "metadata": {},
   "source": [
    "## Model Architecture"
   ]
  },
  {
   "cell_type": "code",
   "execution_count": 0,
   "metadata": {
    "colab": {
     "autoexec": {
      "startup": false,
      "wait_interval": 0
     }
    },
    "colab_type": "code",
    "id": "-P_94ODGuI5t"
   },
   "outputs": [],
   "source": [
    "model = models.Sequential()\n",
    "model.add(layers.Conv2D(64, (3, 3), activation='relu',\n",
    "                        input_shape=(320, 320, 3)))\n",
    "model.add(layers.MaxPooling2D((2, 2)))\n",
    "model.add(layers.Conv2D(128, (3, 3), activation='relu'))\n",
    "model.add(layers.MaxPooling2D((2, 2)))\n",
    "model.add(layers.Conv2D(128, (3, 3), activation='relu'))\n",
    "model.add(layers.MaxPooling2D((2, 2)))\n",
    "model.add(layers.Flatten())\n",
    "model.add(layers.Dropout(0.5))\n",
    "model.add(layers.Dense(512, activation='relu'))\n",
    "model.add(layers.Dense(1, activation='sigmoid'))\n",
    "\n",
    "model.compile(loss='binary_crossentropy', optimizer=optimizers.Adam(lr=1e-4), metrics=['acc'])\n",
    "\n"
   ]
  },
  {
   "cell_type": "markdown",
   "metadata": {},
   "source": [
    "## Augmenting images on the training data"
   ]
  },
  {
   "cell_type": "code",
   "execution_count": 11,
   "metadata": {
    "colab": {
     "autoexec": {
      "startup": false,
      "wait_interval": 0
     },
     "base_uri": "https://localhost:8080/",
     "height": 1771
    },
    "colab_type": "code",
    "executionInfo": {
     "elapsed": 509511,
     "status": "ok",
     "timestamp": 1525884441562,
     "user": {
      "displayName": "atik khatri",
      "photoUrl": "//lh5.googleusercontent.com/-687SbQKlx9U/AAAAAAAAAAI/AAAAAAAAAiE/xmf6vK_XDV8/s50-c-k-no/photo.jpg",
      "userId": "117534537417752597585"
     },
     "user_tz": 240
    },
    "id": "Mye3-cZ4uWTD",
    "outputId": "41edc74f-497f-433e-fa33-9c2a41871483"
   },
   "outputs": [
    {
     "name": "stdout",
     "output_type": "stream",
     "text": [
      "Found 179 images belonging to 2 classes.\n",
      "Found 169 images belonging to 2 classes.\n",
      "Epoch 1/50\n",
      "25/25 [==============================] - 25s 982ms/step - loss: 0.7132 - acc: 0.5295 - val_loss: 0.6891 - val_acc: 0.5250\n",
      "Epoch 2/50\n",
      "25/25 [==============================] - 8s 337ms/step - loss: 0.6713 - acc: 0.5866 - val_loss: 0.6567 - val_acc: 0.6000\n",
      "Epoch 3/50\n",
      "25/25 [==============================] - 9s 375ms/step - loss: 0.6628 - acc: 0.5631 - val_loss: 0.6871 - val_acc: 0.6000\n",
      "Epoch 4/50\n",
      "25/25 [==============================] - 10s 390ms/step - loss: 0.6714 - acc: 0.5850 - val_loss: 0.6544 - val_acc: 0.6250\n",
      "Epoch 5/50\n",
      "25/25 [==============================] - 11s 423ms/step - loss: 0.6517 - acc: 0.6216 - val_loss: 0.6739 - val_acc: 0.6125\n",
      "Epoch 6/50\n",
      "25/25 [==============================] - 10s 388ms/step - loss: 0.6463 - acc: 0.6166 - val_loss: 0.7149 - val_acc: 0.6125\n",
      "Epoch 7/50\n",
      "21/25 [========================>.....] - ETA: 1s - loss: 0.6519 - acc: 0.617125/25 [==============================] - 10s 384ms/step - loss: 0.6422 - acc: 0.6186 - val_loss: 0.7369 - val_acc: 0.6375\n",
      "Epoch 8/50\n",
      "25/25 [==============================] - 10s 383ms/step - loss: 0.6611 - acc: 0.6102 - val_loss: 0.7546 - val_acc: 0.6125\n",
      "Epoch 9/50\n",
      "25/25 [==============================] - 10s 400ms/step - loss: 0.5809 - acc: 0.7137 - val_loss: 0.6990 - val_acc: 0.5875\n",
      "Epoch 10/50\n",
      "25/25 [==============================] - 10s 402ms/step - loss: 0.7031 - acc: 0.5666 - val_loss: 0.8135 - val_acc: 0.6250\n",
      "Epoch 11/50\n",
      "25/25 [==============================] - 10s 414ms/step - loss: 0.6914 - acc: 0.5435 - val_loss: 0.6524 - val_acc: 0.6250\n",
      "Epoch 12/50\n",
      "25/25 [==============================] - 10s 416ms/step - loss: 0.6478 - acc: 0.5936 - val_loss: 0.7251 - val_acc: 0.6250\n",
      "Epoch 13/50\n",
      "25/25 [==============================] - 10s 386ms/step - loss: 0.6513 - acc: 0.6536 - val_loss: 0.7616 - val_acc: 0.6375\n",
      "Epoch 14/50\n",
      "13/25 [==============>...............] - ETA: 3s - loss: 0.5581 - acc: 0.740425/25 [==============================] - 9s 379ms/step - loss: 0.5781 - acc: 0.6914 - val_loss: 0.8736 - val_acc: 0.6125\n",
      "Epoch 15/50\n",
      "25/25 [==============================] - 10s 395ms/step - loss: 0.6450 - acc: 0.6587 - val_loss: 0.7373 - val_acc: 0.5875\n",
      "Epoch 16/50\n",
      "25/25 [==============================] - 10s 393ms/step - loss: 0.6085 - acc: 0.6700 - val_loss: 0.7408 - val_acc: 0.5875\n",
      "Epoch 17/50\n",
      "25/25 [==============================] - 10s 416ms/step - loss: 0.5939 - acc: 0.6857 - val_loss: 0.7912 - val_acc: 0.5750\n",
      "Epoch 18/50\n",
      "25/25 [==============================] - 10s 389ms/step - loss: 0.6445 - acc: 0.6266 - val_loss: 0.7350 - val_acc: 0.5750\n",
      "Epoch 19/50\n",
      "25/25 [==============================] - 9s 375ms/step - loss: 0.5884 - acc: 0.7134 - val_loss: 0.8639 - val_acc: 0.5875\n",
      "Epoch 20/50\n",
      "25/25 [==============================] - 10s 383ms/step - loss: 0.6679 - acc: 0.5886 - val_loss: 0.6523 - val_acc: 0.6125\n",
      "Epoch 21/50\n",
      "13/25 [==============>...............] - ETA: 3s - loss: 0.6104 - acc: 0.673125/25 [==============================] - 10s 385ms/step - loss: 0.6102 - acc: 0.6647 - val_loss: 0.8049 - val_acc: 0.6125\n",
      "Epoch 22/50\n",
      "25/25 [==============================] - 10s 385ms/step - loss: 0.6044 - acc: 0.7167 - val_loss: 0.9472 - val_acc: 0.6375\n",
      "Epoch 23/50\n",
      "25/25 [==============================] - 11s 436ms/step - loss: 0.6059 - acc: 0.6767 - val_loss: 0.7202 - val_acc: 0.5875\n",
      "Epoch 24/50\n",
      "25/25 [==============================] - 10s 387ms/step - loss: 0.5880 - acc: 0.6817 - val_loss: 0.8738 - val_acc: 0.6500\n",
      "Epoch 25/50\n",
      "25/25 [==============================] - 10s 396ms/step - loss: 0.5958 - acc: 0.6366 - val_loss: 0.7485 - val_acc: 0.5875\n",
      "Epoch 26/50\n",
      "25/25 [==============================] - 10s 391ms/step - loss: 0.5711 - acc: 0.7247 - val_loss: 0.8240 - val_acc: 0.5875\n",
      "Epoch 27/50\n",
      "25/25 [==============================] - 10s 394ms/step - loss: 0.5546 - acc: 0.7167 - val_loss: 0.9775 - val_acc: 0.6125\n",
      "Epoch 28/50\n",
      "12/25 [=============>................] - ETA: 3s - loss: 0.5889 - acc: 0.711825/25 [==============================] - 9s 379ms/step - loss: 0.5968 - acc: 0.6904 - val_loss: 0.9970 - val_acc: 0.6125\n",
      "Epoch 29/50\n",
      "25/25 [==============================] - 10s 387ms/step - loss: 0.5476 - acc: 0.7297 - val_loss: 1.0376 - val_acc: 0.6125\n",
      "Epoch 30/50\n",
      "25/25 [==============================] - 10s 409ms/step - loss: 0.6607 - acc: 0.6086 - val_loss: 1.0032 - val_acc: 0.6250\n",
      "Epoch 31/50\n",
      "25/25 [==============================] - 10s 392ms/step - loss: 0.5457 - acc: 0.7397 - val_loss: 0.8861 - val_acc: 0.6000\n",
      "Epoch 32/50\n",
      "25/25 [==============================] - 10s 388ms/step - loss: 0.5527 - acc: 0.7197 - val_loss: 1.1072 - val_acc: 0.6125\n",
      "Epoch 33/50\n",
      "25/25 [==============================] - 10s 394ms/step - loss: 0.5448 - acc: 0.7017 - val_loss: 1.3671 - val_acc: 0.6250\n",
      "Epoch 34/50\n",
      "25/25 [==============================] - 10s 387ms/step - loss: 0.4999 - acc: 0.7948 - val_loss: 1.1886 - val_acc: 0.5875\n",
      "Epoch 35/50\n",
      "12/25 [=============>................] - ETA: 4s - loss: 0.5772 - acc: 0.708325/25 [==============================] - 10s 410ms/step - loss: 0.5642 - acc: 0.7097 - val_loss: 1.2987 - val_acc: 0.5875\n",
      "Epoch 36/50\n",
      "25/25 [==============================] - 10s 410ms/step - loss: 0.5439 - acc: 0.7197 - val_loss: 1.3032 - val_acc: 0.6125\n",
      "Epoch 37/50\n",
      "25/25 [==============================] - 10s 394ms/step - loss: 0.5364 - acc: 0.7087 - val_loss: 1.7907 - val_acc: 0.6000\n",
      "Epoch 38/50\n",
      "25/25 [==============================] - 10s 391ms/step - loss: 0.6055 - acc: 0.6797 - val_loss: 1.3123 - val_acc: 0.6000\n",
      "Epoch 39/50\n",
      "25/25 [==============================] - 9s 379ms/step - loss: 0.5309 - acc: 0.7164 - val_loss: 1.2721 - val_acc: 0.6125\n",
      "Epoch 40/50\n",
      "25/25 [==============================] - 10s 385ms/step - loss: 0.5553 - acc: 0.7117 - val_loss: 1.1329 - val_acc: 0.6000\n",
      "Epoch 41/50\n",
      "25/25 [==============================] - 10s 391ms/step - loss: 0.4495 - acc: 0.8118 - val_loss: 1.3314 - val_acc: 0.6000\n",
      "Epoch 42/50\n",
      "13/25 [==============>...............] - ETA: 4s - loss: 0.5858 - acc: 0.673125/25 [==============================] - 10s 417ms/step - loss: 0.5385 - acc: 0.7200 - val_loss: 2.0667 - val_acc: 0.6000\n",
      "Epoch 43/50\n",
      "25/25 [==============================] - 10s 392ms/step - loss: 0.5427 - acc: 0.7247 - val_loss: 0.9389 - val_acc: 0.5875\n",
      "Epoch 44/50\n",
      "25/25 [==============================] - 10s 389ms/step - loss: 0.5648 - acc: 0.7014 - val_loss: 0.8239 - val_acc: 0.5875\n",
      "Epoch 45/50\n",
      "25/25 [==============================] - 10s 392ms/step - loss: 0.5859 - acc: 0.6797 - val_loss: 1.3756 - val_acc: 0.6250\n",
      "Epoch 46/50\n",
      "25/25 [==============================] - 10s 410ms/step - loss: 0.5072 - acc: 0.7467 - val_loss: 1.5372 - val_acc: 0.6125\n",
      "Epoch 47/50\n",
      "25/25 [==============================] - 10s 392ms/step - loss: 0.5394 - acc: 0.7187 - val_loss: 1.1739 - val_acc: 0.5875\n",
      "Epoch 48/50\n",
      "25/25 [==============================] - 12s 474ms/step - loss: 0.5402 - acc: 0.7518 - val_loss: 0.8740 - val_acc: 0.5625\n",
      "Epoch 49/50\n",
      "12/25 [=============>................] - ETA: 3s - loss: 0.5595 - acc: 0.729225/25 [==============================] - 10s 383ms/step - loss: 0.5679 - acc: 0.6897 - val_loss: 1.0544 - val_acc: 0.5875\n",
      "Epoch 50/50\n",
      "25/25 [==============================] - 10s 385ms/step - loss: 0.5316 - acc: 0.7347 - val_loss: 1.3622 - val_acc: 0.6125\n"
     ]
    }
   ],
   "source": [
    "train_datagen = image.ImageDataGenerator(\n",
    "    rescale=1./255,\n",
    "    rotation_range=50,\n",
    "    width_shift_range=0.2,\n",
    "    height_shift_range=0.2,\n",
    "    shear_range=0.2,\n",
    "    zoom_range=0.2,\n",
    "    horizontal_flip=True)\n",
    "\n",
    "# Note that the validation data should not be augmented!\n",
    "test_datagen = image.ImageDataGenerator(rescale=1./255)\n",
    "\n",
    "train_generator = train_datagen.flow_from_directory(train_dir,target_size=(320, 320),batch_size=8,class_mode='binary')\n",
    "\n",
    "validation_generator = test_datagen.flow_from_directory(test_dir,target_size=(320, 320),batch_size=8,class_mode='binary')\n",
    "\n",
    "history = model.fit_generator(\n",
    "      train_generator,\n",
    "      steps_per_epoch=25,\n",
    "      epochs=50,\n",
    "      validation_data=validation_generator,\n",
    "      validation_steps=10)"
   ]
  },
  {
   "cell_type": "markdown",
   "metadata": {},
   "source": [
    "## Plotting the Training & Validation accuracy and loss values"
   ]
  },
  {
   "cell_type": "code",
   "execution_count": 12,
   "metadata": {
    "colab": {
     "autoexec": {
      "startup": false,
      "wait_interval": 0
     },
     "base_uri": "https://localhost:8080/",
     "height": 543
    },
    "colab_type": "code",
    "executionInfo": {
     "elapsed": 657,
     "status": "ok",
     "timestamp": 1525884688061,
     "user": {
      "displayName": "atik khatri",
      "photoUrl": "//lh5.googleusercontent.com/-687SbQKlx9U/AAAAAAAAAAI/AAAAAAAAAiE/xmf6vK_XDV8/s50-c-k-no/photo.jpg",
      "userId": "117534537417752597585"
     },
     "user_tz": 240
    },
    "id": "rLR1eBu6uakK",
    "outputId": "1398c373-f270-4e76-b68a-cd4620bdeb6a"
   },
   "outputs": [
    {
     "data": {
      "image/png": "[encoded data removed]",
      "text/plain": [
       "<matplotlib.figure.Figure at 0x7fda81ce37f0>"
      ]
     },
     "metadata": {
      "tags": []
     },
     "output_type": "display_data"
    },
    {
     "data": {
      "image/png": "[encoded data removed]",
      "text/plain": [
       "<matplotlib.figure.Figure at 0x7fda0c74f588>"
      ]
     },
     "metadata": {
      "tags": []
     },
     "output_type": "display_data"
    }
   ],
   "source": [
    "acc = history.history['acc']\n",
    "val_acc = history.history['val_acc']\n",
    "loss = history.history['loss']\n",
    "val_loss = history.history['val_loss']\n",
    "\n",
    "epochs = range(len(acc))\n",
    "\n",
    "plt.plot(epochs, acc, 'r', label='Training acc')\n",
    "plt.plot(epochs, val_acc, 'b', label='Validation acc')\n",
    "plt.title('Training and validation accuracy')\n",
    "plt.legend()\n",
    "\n",
    "plt.figure()\n",
    "\n",
    "plt.plot(epochs, loss, 'r', label='Training loss')\n",
    "plt.plot(epochs, val_loss, 'b', label='Validation loss')\n",
    "plt.title('Training and validation loss')\n",
    "plt.legend()\n",
    "\n",
    "plt.show()"
   ]
  },
  {
   "cell_type": "markdown",
   "metadata": {},
   "source": [
    "## Saving the trained model"
   ]
  },
  {
   "cell_type": "code",
   "execution_count": 0,
   "metadata": {
    "colab": {
     "autoexec": {
      "startup": false,
      "wait_interval": 0
     }
    },
    "colab_type": "code",
    "id": "EQjS1__axF8s"
   },
   "outputs": [],
   "source": [
    "model.save('cancer_classification_final_model.h5')"
   ]
  }
 ],
 "metadata": {
  "accelerator": "GPU",
  "colab": {
   "collapsed_sections": [],
   "default_view": {},
   "name": "CV_Classification_CNN.ipynb",
   "provenance": [],
   "version": "0.3.2",
   "views": {}
  },
  "kernelspec": {
   "display_name": "Python 3",
   "language": "python",
   "name": "python3"
  },
  "language_info": {
   "codemirror_mode": {
    "name": "ipython",
    "version": 3
   },
   "file_extension": ".py",
   "mimetype": "text/x-python",
   "name": "python",
   "nbconvert_exporter": "python",
   "pygments_lexer": "ipython3",
   "version": "3.6.2"
  }
 },
 "nbformat": 4,
 "nbformat_minor": 1
}
