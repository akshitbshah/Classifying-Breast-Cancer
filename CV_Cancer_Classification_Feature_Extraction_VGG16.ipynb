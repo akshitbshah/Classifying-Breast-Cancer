{
 "cells": [
  {
   "cell_type": "markdown",
   "metadata": {},
   "source": [
    "# Breast Tumor Classification using feature extraction technique based on VGG16"
   ]
  },
  {
   "cell_type": "markdown",
   "metadata": {},
   "source": [
    "### This below two cell must be executed to access data from drive (if it's stored on it ), if you want run it on Google Colab"
   ]
  },
  {
   "cell_type": "code",
   "execution_count": null,
   "metadata": {
    "colab": {
     "autoexec": {
      "startup": false,
      "wait_interval": 0
     },
     "base_uri": "https://localhost:8080/",
     "height": 1048
    },
    "colab_type": "code",
    "executionInfo": {
     "elapsed": 29218,
     "status": "error",
     "timestamp": 1525886745821,
     "user": {
      "displayName": "atik khatri",
      "photoUrl": "//lh5.googleusercontent.com/-687SbQKlx9U/AAAAAAAAAAI/AAAAAAAAAiE/xmf6vK_XDV8/s50-c-k-no/photo.jpg",
      "userId": "117534537417752597585"
     },
     "user_tz": 240
    },
    "id": "EzdyMdQbRfjr",
    "outputId": "b138b5ff-5c93-417e-8698-bb0b890207b8"
   },
   "outputs": [],
   "source": [
    "!apt-get install -y -qq software-properties-common python-software-properties module-init-tools\n",
    "!add-apt-repository -y ppa:alessandro-strada/ppa 2>&1 > /dev/null\n",
    "!apt-get update -qq 2>&1 > /dev/null\n",
    "!apt-get -y install -qq google-drive-ocamlfuse fuse\n",
    "\n",
    "from google.colab import auth\n",
    "auth.authenticate_user()\n",
    "from oauth2client.client import GoogleCredentials\n",
    "creds = GoogleCredentials.get_application_default()\n",
    "import getpass\n",
    "\n",
    "!google-drive-ocamlfuse -headless -id={creds.client_id} -secret={creds.client_secret} < /dev/null 2>&1 | grep URL\n",
    "vcode = getpass.getpass()\n",
    "!echo {vcode} | google-drive-ocamlfuse -headless -id={creds.client_id} -secret={creds.client_secret}"
   ]
  },
  {
   "cell_type": "code",
   "execution_count": 0,
   "metadata": {
    "colab": {
     "autoexec": {
      "startup": false,
      "wait_interval": 0
     }
    },
    "colab_type": "code",
    "id": "5SrABm_Qr0c1"
   },
   "outputs": [],
   "source": [
    "!mkdir -p drive\n",
    "!google-drive-ocamlfuse drive"
   ]
  },
  {
   "cell_type": "code",
   "execution_count": 3,
   "metadata": {
    "colab": {
     "autoexec": {
      "startup": false,
      "wait_interval": 0
     },
     "base_uri": "https://localhost:8080/",
     "height": 34
    },
    "colab_type": "code",
    "executionInfo": {
     "elapsed": 280,
     "status": "ok",
     "timestamp": 1525885774409,
     "user": {
      "displayName": "atik khatri",
      "photoUrl": "//lh5.googleusercontent.com/-687SbQKlx9U/AAAAAAAAAAI/AAAAAAAAAiE/xmf6vK_XDV8/s50-c-k-no/photo.jpg",
      "userId": "117534537417752597585"
     },
     "user_tz": 240
    },
    "id": "C4AeThzfsJsb",
    "outputId": "46318be6-3261-4137-afd7-8e6dbae2639c"
   },
   "outputs": [
    {
     "name": "stdout",
     "output_type": "stream",
     "text": [
      "/content/drive\n"
     ]
    }
   ],
   "source": [
    "cd drive/"
   ]
  },
  {
   "cell_type": "markdown",
   "metadata": {
    "colab_type": "text",
    "id": "s4mPlw6cYTzZ"
   },
   "source": [
    "# Classification of Benign/Malignant using feature extraction of pre-trained model (VGG16)"
   ]
  },
  {
   "cell_type": "code",
   "execution_count": 4,
   "metadata": {
    "colab": {
     "autoexec": {
      "startup": false,
      "wait_interval": 0
     },
     "base_uri": "https://localhost:8080/",
     "height": 51
    },
    "colab_type": "code",
    "executionInfo": {
     "elapsed": 3285,
     "status": "ok",
     "timestamp": 1525885780662,
     "user": {
      "displayName": "atik khatri",
      "photoUrl": "//lh5.googleusercontent.com/-687SbQKlx9U/AAAAAAAAAAI/AAAAAAAAAiE/xmf6vK_XDV8/s50-c-k-no/photo.jpg",
      "userId": "117534537417752597585"
     },
     "user_tz": 240
    },
    "id": "zOA7mCGKsLYL",
    "outputId": "739a54cd-09e6-4b0c-e0eb-12ab4b5c422d"
   },
   "outputs": [
    {
     "name": "stdout",
     "output_type": "stream",
     "text": [
      "Downloading data from https://github.com/fchollet/deep-learning-models/releases/download/v0.1/vgg16_weights_tf_dim_ordering_tf_kernels_notop.h5\n",
      "58892288/58889256 [==============================] - 2s 0us/step\n"
     ]
    }
   ],
   "source": [
    "from keras.applications import VGG16\n",
    "\n",
    "conv_base = VGG16(weights='imagenet',\n",
    "                  include_top=False,\n",
    "                  input_shape=(320, 320, 3))"
   ]
  },
  {
   "cell_type": "code",
   "execution_count": 0,
   "metadata": {
    "colab": {
     "autoexec": {
      "startup": false,
      "wait_interval": 0
     }
    },
    "colab_type": "code",
    "id": "jy-13rV_sPI2"
   },
   "outputs": [],
   "source": [
    "import os"
   ]
  },
  {
   "cell_type": "code",
   "execution_count": 0,
   "metadata": {
    "colab": {
     "autoexec": {
      "startup": false,
      "wait_interval": 0
     }
    },
    "colab_type": "code",
    "id": "h61h2ocksawt"
   },
   "outputs": [],
   "source": [
    "base_dir = '/content/drive/CV_dataset/'\n",
    "\n",
    "train_dir = os.path.join(base_dir, 'train')\n",
    "test_dir = os.path.join(base_dir, 'test')"
   ]
  },
  {
   "cell_type": "code",
   "execution_count": 0,
   "metadata": {
    "colab": {
     "autoexec": {
      "startup": false,
      "wait_interval": 0
     }
    },
    "colab_type": "code",
    "id": "1d7kBCPdshqx"
   },
   "outputs": [],
   "source": [
    "from keras import models\n",
    "from keras import layers\n",
    "from keras import optimizers\n",
    "\n",
    "model = models.Sequential()\n",
    "model.add(conv_base)\n",
    "model.add(layers.Flatten())\n",
    "model.add(layers.Dense(256, activation='relu'))\n",
    "model.add(layers.Dropout(0.5))\n",
    "model.add(layers.Dense(1, activation='sigmoid'))"
   ]
  },
  {
   "cell_type": "code",
   "execution_count": 10,
   "metadata": {
    "colab": {
     "autoexec": {
      "startup": false,
      "wait_interval": 0
     },
     "base_uri": "https://localhost:8080/",
     "height": 306
    },
    "colab_type": "code",
    "executionInfo": {
     "elapsed": 222,
     "status": "ok",
     "timestamp": 1525885545001,
     "user": {
      "displayName": "atik khatri",
      "photoUrl": "//lh5.googleusercontent.com/-687SbQKlx9U/AAAAAAAAAAI/AAAAAAAAAiE/xmf6vK_XDV8/s50-c-k-no/photo.jpg",
      "userId": "117534537417752597585"
     },
     "user_tz": 240
    },
    "id": "KTWV2oV7st7R",
    "outputId": "2c37d6b9-e830-48c2-fa06-15df120615cb"
   },
   "outputs": [
    {
     "name": "stdout",
     "output_type": "stream",
     "text": [
      "_________________________________________________________________\n",
      "Layer (type)                 Output Shape              Param #   \n",
      "=================================================================\n",
      "vgg16 (Model)                (None, 10, 10, 512)       14714688  \n",
      "_________________________________________________________________\n",
      "flatten_2 (Flatten)          (None, 51200)             0         \n",
      "_________________________________________________________________\n",
      "dense_3 (Dense)              (None, 256)               13107456  \n",
      "_________________________________________________________________\n",
      "dropout_2 (Dropout)          (None, 256)               0         \n",
      "_________________________________________________________________\n",
      "dense_4 (Dense)              (None, 1)                 257       \n",
      "=================================================================\n",
      "Total params: 27,822,401\n",
      "Trainable params: 27,822,401\n",
      "Non-trainable params: 0\n",
      "_________________________________________________________________\n"
     ]
    }
   ],
   "source": [
    "model.summary()"
   ]
  },
  {
   "cell_type": "markdown",
   "metadata": {},
   "source": [
    "## Freezing the convlution base of VGG16"
   ]
  },
  {
   "cell_type": "code",
   "execution_count": 0,
   "metadata": {
    "colab": {
     "autoexec": {
      "startup": false,
      "wait_interval": 0
     },
     "base_uri": "https://localhost:8080/",
     "height": 34
    },
    "colab_type": "code",
    "executionInfo": {
     "elapsed": 220,
     "status": "ok",
     "timestamp": 1525708551150,
     "user": {
      "displayName": "atik khatri",
      "photoUrl": "//lh5.googleusercontent.com/-687SbQKlx9U/AAAAAAAAAAI/AAAAAAAAAiE/xmf6vK_XDV8/s50-c-k-no/photo.jpg",
      "userId": "117534537417752597585"
     },
     "user_tz": 240
    },
    "id": "KdPi2gpCs-dT",
    "outputId": "c3b01ee3-e046-4007-aa93-c149f9e8b74d"
   },
   "outputs": [
    {
     "name": "stdout",
     "output_type": "stream",
     "text": [
      "This is the number of trainable weights before freezing the conv base: 30\n"
     ]
    }
   ],
   "source": [
    "print('This is the number of trainable weights '\n",
    "      'before freezing the conv base:', len(model.trainable_weights))"
   ]
  },
  {
   "cell_type": "code",
   "execution_count": 0,
   "metadata": {
    "colab": {
     "autoexec": {
      "startup": false,
      "wait_interval": 0
     },
     "base_uri": "https://localhost:8080/",
     "height": 34
    },
    "colab_type": "code",
    "executionInfo": {
     "elapsed": 446,
     "status": "ok",
     "timestamp": 1525708555080,
     "user": {
      "displayName": "atik khatri",
      "photoUrl": "//lh5.googleusercontent.com/-687SbQKlx9U/AAAAAAAAAAI/AAAAAAAAAiE/xmf6vK_XDV8/s50-c-k-no/photo.jpg",
      "userId": "117534537417752597585"
     },
     "user_tz": 240
    },
    "id": "k3Sk_RG-tCxH",
    "outputId": "ec6e89ad-2e60-4f63-ffe2-c2588d44957a"
   },
   "outputs": [
    {
     "name": "stdout",
     "output_type": "stream",
     "text": [
      "This is the number of trainable weights after freezing the conv base: 4\n"
     ]
    }
   ],
   "source": [
    "conv_base.trainable = False\n",
    "print('This is the number of trainable weights '\n",
    "      'after freezing the conv base:', len(model.trainable_weights))"
   ]
  },
  {
   "cell_type": "markdown",
   "metadata": {},
   "source": [
    "## Augmenting the training data"
   ]
  },
  {
   "cell_type": "code",
   "execution_count": 0,
   "metadata": {
    "colab": {
     "autoexec": {
      "startup": false,
      "wait_interval": 0
     },
     "base_uri": "https://localhost:8080/",
     "height": 1751
    },
    "colab_type": "code",
    "executionInfo": {
     "elapsed": 641167,
     "status": "ok",
     "timestamp": 1525709220568,
     "user": {
      "displayName": "atik khatri",
      "photoUrl": "//lh5.googleusercontent.com/-687SbQKlx9U/AAAAAAAAAAI/AAAAAAAAAiE/xmf6vK_XDV8/s50-c-k-no/photo.jpg",
      "userId": "117534537417752597585"
     },
     "user_tz": 240
    },
    "id": "a58d2slOtFya",
    "outputId": "7e13d815-395e-4868-98fb-03b11fd7c8e1"
   },
   "outputs": [
    {
     "name": "stdout",
     "output_type": "stream",
     "text": [
      "Found 179 images belonging to 2 classes.\n",
      "Found 169 images belonging to 2 classes.\n",
      "Epoch 1/50\n",
      " - 145s - loss: 0.7762 - acc: 0.4965 - val_loss: 0.7774 - val_acc: 0.4000\n",
      "Epoch 2/50\n",
      " - 9s - loss: 0.7012 - acc: 0.5485 - val_loss: 0.6453 - val_acc: 0.6250\n",
      "Epoch 3/50\n",
      " - 9s - loss: 0.6629 - acc: 0.6283 - val_loss: 0.6278 - val_acc: 0.6125\n",
      "Epoch 4/50\n",
      " - 9s - loss: 0.6613 - acc: 0.6136 - val_loss: 0.6275 - val_acc: 0.6375\n",
      "Epoch 5/50\n",
      " - 11s - loss: 0.6137 - acc: 0.6250 - val_loss: 0.6315 - val_acc: 0.6250\n",
      "Epoch 6/50\n",
      " - 10s - loss: 0.6612 - acc: 0.6253 - val_loss: 0.6260 - val_acc: 0.6250\n",
      "Epoch 7/50\n",
      " - 10s - loss: 0.5846 - acc: 0.6667 - val_loss: 0.6282 - val_acc: 0.6625\n",
      "Epoch 8/50\n",
      " - 10s - loss: 0.5968 - acc: 0.6667 - val_loss: 0.6206 - val_acc: 0.6375\n",
      "Epoch 9/50\n",
      " - 10s - loss: 0.5922 - acc: 0.6897 - val_loss: 0.6460 - val_acc: 0.6125\n",
      "Epoch 10/50\n",
      " - 10s - loss: 0.6040 - acc: 0.6456 - val_loss: 0.6796 - val_acc: 0.6375\n",
      "Epoch 11/50\n",
      " - 11s - loss: 0.6307 - acc: 0.6146 - val_loss: 0.6268 - val_acc: 0.6375\n",
      "Epoch 12/50\n",
      " - 11s - loss: 0.5886 - acc: 0.7067 - val_loss: 0.6724 - val_acc: 0.6125\n",
      "Epoch 13/50\n",
      " - 10s - loss: 0.5577 - acc: 0.7395 - val_loss: 0.7409 - val_acc: 0.6125\n",
      "Epoch 14/50\n",
      " - 10s - loss: 0.5964 - acc: 0.6750 - val_loss: 0.7417 - val_acc: 0.6000\n",
      "Epoch 15/50\n",
      " - 10s - loss: 0.6110 - acc: 0.6266 - val_loss: 0.6297 - val_acc: 0.6375\n",
      "Epoch 16/50\n",
      " - 10s - loss: 0.5765 - acc: 0.7154 - val_loss: 0.5954 - val_acc: 0.6500\n",
      "Epoch 17/50\n",
      " - 10s - loss: 0.5679 - acc: 0.6887 - val_loss: 0.6504 - val_acc: 0.6250\n",
      "Epoch 18/50\n",
      " - 10s - loss: 0.5528 - acc: 0.7250 - val_loss: 0.7075 - val_acc: 0.6125\n",
      "Epoch 19/50\n",
      " - 10s - loss: 0.5631 - acc: 0.7017 - val_loss: 0.6738 - val_acc: 0.6125\n",
      "Epoch 20/50\n",
      " - 10s - loss: 0.5193 - acc: 0.7204 - val_loss: 0.7385 - val_acc: 0.6125\n",
      "Epoch 21/50\n",
      " - 10s - loss: 0.5754 - acc: 0.7267 - val_loss: 0.7277 - val_acc: 0.6125\n",
      "Epoch 22/50\n",
      " - 11s - loss: 0.5357 - acc: 0.7247 - val_loss: 0.7277 - val_acc: 0.6125\n",
      "Epoch 23/50\n",
      " - 11s - loss: 0.5674 - acc: 0.7157 - val_loss: 0.7336 - val_acc: 0.6125\n",
      "Epoch 24/50\n",
      " - 10s - loss: 0.5795 - acc: 0.6667 - val_loss: 0.7059 - val_acc: 0.6375\n",
      "Epoch 25/50\n",
      " - 9s - loss: 0.5156 - acc: 0.7485 - val_loss: 0.7945 - val_acc: 0.6125\n",
      "Epoch 26/50\n",
      " - 10s - loss: 0.5840 - acc: 0.7050 - val_loss: 0.7214 - val_acc: 0.6125\n",
      "Epoch 27/50\n",
      " - 10s - loss: 0.5100 - acc: 0.7397 - val_loss: 0.7176 - val_acc: 0.6000\n",
      "Epoch 28/50\n",
      " - 10s - loss: 0.5757 - acc: 0.6767 - val_loss: 0.6993 - val_acc: 0.6000\n",
      "Epoch 29/50\n",
      " - 10s - loss: 0.4896 - acc: 0.7816 - val_loss: 0.7652 - val_acc: 0.6000\n",
      "Epoch 30/50\n",
      " - 10s - loss: 0.4987 - acc: 0.7700 - val_loss: 0.7278 - val_acc: 0.6000\n",
      "Epoch 31/50\n",
      " - 10s - loss: 0.5368 - acc: 0.7285 - val_loss: 0.8057 - val_acc: 0.6125\n",
      "Epoch 32/50\n",
      " - 10s - loss: 0.5053 - acc: 0.7650 - val_loss: 0.7369 - val_acc: 0.6000\n",
      "Epoch 33/50\n",
      " - 10s - loss: 0.5363 - acc: 0.7445 - val_loss: 0.6954 - val_acc: 0.6125\n",
      "Epoch 34/50\n",
      " - 11s - loss: 0.5013 - acc: 0.7347 - val_loss: 0.6624 - val_acc: 0.6375\n",
      "Epoch 35/50\n",
      " - 11s - loss: 0.4939 - acc: 0.7498 - val_loss: 0.7440 - val_acc: 0.6000\n",
      "Epoch 36/50\n",
      " - 9s - loss: 0.5139 - acc: 0.7568 - val_loss: 0.7798 - val_acc: 0.6000\n",
      "Epoch 37/50\n",
      " - 9s - loss: 0.5670 - acc: 0.7167 - val_loss: 0.5658 - val_acc: 0.6875\n",
      "Epoch 38/50\n",
      " - 10s - loss: 0.5705 - acc: 0.6917 - val_loss: 0.5922 - val_acc: 0.6500\n",
      "Epoch 39/50\n",
      " - 10s - loss: 0.5326 - acc: 0.7204 - val_loss: 0.5797 - val_acc: 0.7000\n",
      "Epoch 40/50\n",
      " - 10s - loss: 0.4953 - acc: 0.7450 - val_loss: 0.6266 - val_acc: 0.6250\n",
      "Epoch 41/50\n",
      " - 10s - loss: 0.5421 - acc: 0.7568 - val_loss: 0.7623 - val_acc: 0.6000\n",
      "Epoch 42/50\n",
      " - 10s - loss: 0.5384 - acc: 0.7217 - val_loss: 0.7551 - val_acc: 0.6000\n",
      "Epoch 43/50\n",
      " - 10s - loss: 0.4984 - acc: 0.7335 - val_loss: 0.6967 - val_acc: 0.6125\n",
      "Epoch 44/50\n",
      " - 10s - loss: 0.5072 - acc: 0.7668 - val_loss: 0.6188 - val_acc: 0.6500\n",
      "Epoch 45/50\n",
      " - 10s - loss: 0.4911 - acc: 0.7698 - val_loss: 0.8530 - val_acc: 0.6125\n",
      "Epoch 46/50\n",
      " - 11s - loss: 0.4562 - acc: 0.7968 - val_loss: 0.7401 - val_acc: 0.6125\n",
      "Epoch 47/50\n",
      " - 10s - loss: 0.4800 - acc: 0.7798 - val_loss: 0.8413 - val_acc: 0.6125\n",
      "Epoch 48/50\n",
      " - 10s - loss: 0.5283 - acc: 0.7317 - val_loss: 0.7328 - val_acc: 0.6500\n",
      "Epoch 49/50\n",
      " - 9s - loss: 0.4664 - acc: 0.7798 - val_loss: 0.6663 - val_acc: 0.6375\n",
      "Epoch 50/50\n",
      " - 9s - loss: 0.5207 - acc: 0.7345 - val_loss: 0.5602 - val_acc: 0.7000\n"
     ]
    }
   ],
   "source": [
    "from keras.preprocessing.image import ImageDataGenerator\n",
    "\n",
    "train_datagen = ImageDataGenerator(\n",
    "      rescale=1./255,\n",
    "      rotation_range=50,\n",
    "      width_shift_range=0.2,\n",
    "      height_shift_range=0.2,\n",
    "      shear_range=0.2,\n",
    "      zoom_range=0.2,\n",
    "      horizontal_flip=True,\n",
    "      fill_mode='nearest')\n",
    "\n",
    "# Note that the validation data should not be augmented!\n",
    "test_datagen = ImageDataGenerator(rescale=1./255)\n",
    "\n",
    "train_generator = train_datagen.flow_from_directory(train_dir, target_size=(320, 320), batch_size=8, class_mode='binary')\n",
    "\n",
    "validation_generator = test_datagen.flow_from_directory(test_dir, target_size=(320, 320), batch_size=8, class_mode='binary')\n",
    "\n",
    "model.compile(loss='binary_crossentropy', optimizer=optimizers.Adam(lr=2e-5), metrics=['acc'])\n",
    "\n",
    "history = model.fit_generator(\n",
    "      train_generator,\n",
    "      steps_per_epoch=25,\n",
    "      epochs=50,\n",
    "      validation_data=validation_generator,\n",
    "      validation_steps=10,\n",
    "      verbose=2)"
   ]
  },
  {
   "cell_type": "markdown",
   "metadata": {},
   "source": [
    "## Plotting the training & Validation accuracy and loss value"
   ]
  },
  {
   "cell_type": "code",
   "execution_count": 0,
   "metadata": {
    "colab": {
     "autoexec": {
      "startup": false,
      "wait_interval": 0
     },
     "base_uri": "https://localhost:8080/",
     "height": 543
    },
    "colab_type": "code",
    "executionInfo": {
     "elapsed": 1701,
     "status": "ok",
     "timestamp": 1525709424879,
     "user": {
      "displayName": "atik khatri",
      "photoUrl": "//lh5.googleusercontent.com/-687SbQKlx9U/AAAAAAAAAAI/AAAAAAAAAiE/xmf6vK_XDV8/s50-c-k-no/photo.jpg",
      "userId": "117534537417752597585"
     },
     "user_tz": 240
    },
    "id": "x9pzHDuLXNSH",
    "outputId": "aa50ad8c-f060-47b8-8799-4d86397d4da9"
   },
   "outputs": [
    {
     "data": {
      "image/png": "[encoded data removed]",
      "text/plain": [
       "<matplotlib.figure.Figure at 0x7ffb3369def0>"
      ]
     },
     "metadata": {
      "tags": []
     },
     "output_type": "display_data"
    },
    {
     "data": {
      "image/png": "[encoded data removed]",
      "text/plain": [
       "<matplotlib.figure.Figure at 0x7ffabc15b2b0>"
      ]
     },
     "metadata": {
      "tags": []
     },
     "output_type": "display_data"
    }
   ],
   "source": [
    "import matplotlib.pyplot as plt\n",
    "%matplotlib inline\n",
    "\n",
    "acc = history.history['acc']\n",
    "val_acc = history.history['val_acc']\n",
    "loss = history.history['loss']\n",
    "val_loss = history.history['val_loss']\n",
    "\n",
    "epochs = range(len(acc))\n",
    "\n",
    "plt.plot(epochs, acc, 'r', label='Training acc')\n",
    "plt.plot(epochs, val_acc, 'b', label='Validation acc')\n",
    "plt.title('Training and validation accuracy')\n",
    "plt.legend()\n",
    "\n",
    "plt.figure()\n",
    "\n",
    "plt.plot(epochs, loss, 'r', label='Training loss')\n",
    "plt.plot(epochs, val_loss, 'b', label='Validation loss')\n",
    "plt.title('Training and validation loss')\n",
    "plt.legend()\n",
    "\n",
    "plt.show()"
   ]
  },
  {
   "cell_type": "markdown",
   "metadata": {},
   "source": [
    "## Saving the trained model"
   ]
  },
  {
   "cell_type": "code",
   "execution_count": 0,
   "metadata": {
    "colab": {
     "autoexec": {
      "startup": false,
      "wait_interval": 0
     }
    },
    "colab_type": "code",
    "id": "fp4rimlYXprS"
   },
   "outputs": [],
   "source": [
    "model.save('cancer_classification_model_using_feature_extraction_VGG16.h5')"
   ]
  }
 ],
 "metadata": {
  "colab": {
   "default_view": {},
   "name": "CV_Cancer_Classification_Feature-Extraction_VGG16.ipynb",
   "provenance": [],
   "version": "0.3.2",
   "views": {}
  },
  "kernelspec": {
   "display_name": "Python 3",
   "language": "python",
   "name": "python3"
  },
  "language_info": {
   "codemirror_mode": {
    "name": "ipython",
    "version": 3
   },
   "file_extension": ".py",
   "mimetype": "text/x-python",
   "name": "python",
   "nbconvert_exporter": "python",
   "pygments_lexer": "ipython3",
   "version": "3.6.2"
  }
 },
 "nbformat": 4,
 "nbformat_minor": 1
}
